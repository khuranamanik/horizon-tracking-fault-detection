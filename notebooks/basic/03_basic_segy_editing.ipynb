{
 "cells": [
  {
   "cell_type": "markdown",
   "metadata": {},
   "source": [
    "# Basic SEGY file editing with segyio and scipy.signal\n",
    "\n",
    "This notebook provides a quicklook to standard segy manipulation such as:\n",
    "- Trace resampling\n",
    "- Time cut\n",
    "\n",
    "Segy writing is also described at the end of the notebook. The 2D seismic line in this post is from the [USGS NPRA Seismic Data Archive](http://energy.usgs.gov/GeochemistryGeophysics/SeismicDataProcessingInterpretation/NPRASeismicDataArchive.aspx), and are in the public domain. The line number is 3X_75_PR.\n",
    "\n",
    "### Dependencies"
   ]
  },
  {
   "cell_type": "code",
   "execution_count": 3,
   "metadata": {},
   "outputs": [],
   "source": [
    "import matplotlib.pyplot as plt\n",
    "import numpy as np\n",
    "import scipy.signal\n",
    "import segyio\n",
    "\n",
    "\n",
    "filename = r'../../data/basic3X_75_PR.SGY'"
   ]
  },
  {
   "cell_type": "markdown",
   "metadata": {},
   "source": [
    "## Inspect file\n",
    "After reading the file, we get some of the basic attributes of the file§"
   ]
  },
  {
   "cell_type": "code",
   "execution_count": 4,
   "metadata": {},
   "outputs": [
    {
     "ename": "FileNotFoundError",
     "evalue": "[Errno 2] No such file or directory",
     "output_type": "error",
     "traceback": [
      "\u001b[1;31m---------------------------------------------------------------------------\u001b[0m",
      "\u001b[1;31mFileNotFoundError\u001b[0m                         Traceback (most recent call last)",
      "\u001b[1;32m<ipython-input-4-0bfe07070016>\u001b[0m in \u001b[0;36m<module>\u001b[1;34m\u001b[0m\n\u001b[1;32m----> 1\u001b[1;33m \u001b[1;32mwith\u001b[0m \u001b[0msegyio\u001b[0m\u001b[1;33m.\u001b[0m\u001b[0mopen\u001b[0m\u001b[1;33m(\u001b[0m\u001b[0mfilename\u001b[0m\u001b[1;33m,\u001b[0m \u001b[0mignore_geometry\u001b[0m\u001b[1;33m=\u001b[0m\u001b[1;32mTrue\u001b[0m\u001b[1;33m)\u001b[0m \u001b[1;32mas\u001b[0m \u001b[0mf\u001b[0m\u001b[1;33m:\u001b[0m\u001b[1;33m\u001b[0m\u001b[1;33m\u001b[0m\u001b[0m\n\u001b[0m\u001b[0;32m      2\u001b[0m     \u001b[1;31m# Get basic attributes\u001b[0m\u001b[1;33m\u001b[0m\u001b[1;33m\u001b[0m\u001b[1;33m\u001b[0m\u001b[0m\n\u001b[0;32m      3\u001b[0m     \u001b[0mn_traces\u001b[0m \u001b[1;33m=\u001b[0m \u001b[0mf\u001b[0m\u001b[1;33m.\u001b[0m\u001b[0mtracecount\u001b[0m\u001b[1;33m\u001b[0m\u001b[1;33m\u001b[0m\u001b[0m\n\u001b[0;32m      4\u001b[0m     \u001b[0msample_rate\u001b[0m \u001b[1;33m=\u001b[0m \u001b[0msegyio\u001b[0m\u001b[1;33m.\u001b[0m\u001b[0mtools\u001b[0m\u001b[1;33m.\u001b[0m\u001b[0mdt\u001b[0m\u001b[1;33m(\u001b[0m\u001b[0mf\u001b[0m\u001b[1;33m)\u001b[0m \u001b[1;33m/\u001b[0m \u001b[1;36m1000\u001b[0m\u001b[1;33m\u001b[0m\u001b[1;33m\u001b[0m\u001b[0m\n\u001b[0;32m      5\u001b[0m     \u001b[0mn_samples\u001b[0m \u001b[1;33m=\u001b[0m \u001b[0mf\u001b[0m\u001b[1;33m.\u001b[0m\u001b[0msamples\u001b[0m\u001b[1;33m.\u001b[0m\u001b[0msize\u001b[0m\u001b[1;33m\u001b[0m\u001b[1;33m\u001b[0m\u001b[0m\n",
      "\u001b[1;32mC:\\ProgramData\\Anaconda3\\lib\\site-packages\\segyio\\open.py\u001b[0m in \u001b[0;36mopen\u001b[1;34m(filename, mode, iline, xline, strict, ignore_geometry, endian)\u001b[0m\n\u001b[0;32m    160\u001b[0m \u001b[1;33m\u001b[0m\u001b[0m\n\u001b[0;32m    161\u001b[0m     \u001b[1;32mfrom\u001b[0m \u001b[1;33m.\u001b[0m \u001b[1;32mimport\u001b[0m \u001b[0m_segyio\u001b[0m\u001b[1;33m\u001b[0m\u001b[1;33m\u001b[0m\u001b[0m\n\u001b[1;32m--> 162\u001b[1;33m     \u001b[0mfd\u001b[0m \u001b[1;33m=\u001b[0m \u001b[0m_segyio\u001b[0m\u001b[1;33m.\u001b[0m\u001b[0msegyiofd\u001b[0m\u001b[1;33m(\u001b[0m\u001b[0mstr\u001b[0m\u001b[1;33m(\u001b[0m\u001b[0mfilename\u001b[0m\u001b[1;33m)\u001b[0m\u001b[1;33m,\u001b[0m \u001b[0mmode\u001b[0m\u001b[1;33m,\u001b[0m \u001b[0mendians\u001b[0m\u001b[1;33m[\u001b[0m\u001b[0mendian\u001b[0m\u001b[1;33m]\u001b[0m\u001b[1;33m)\u001b[0m\u001b[1;33m\u001b[0m\u001b[1;33m\u001b[0m\u001b[0m\n\u001b[0m\u001b[0;32m    163\u001b[0m     \u001b[0mfd\u001b[0m\u001b[1;33m.\u001b[0m\u001b[0msegyopen\u001b[0m\u001b[1;33m(\u001b[0m\u001b[1;33m)\u001b[0m\u001b[1;33m\u001b[0m\u001b[1;33m\u001b[0m\u001b[0m\n\u001b[0;32m    164\u001b[0m     \u001b[0mmetrics\u001b[0m \u001b[1;33m=\u001b[0m \u001b[0mfd\u001b[0m\u001b[1;33m.\u001b[0m\u001b[0mmetrics\u001b[0m\u001b[1;33m(\u001b[0m\u001b[1;33m)\u001b[0m\u001b[1;33m\u001b[0m\u001b[1;33m\u001b[0m\u001b[0m\n",
      "\u001b[1;31mFileNotFoundError\u001b[0m: [Errno 2] No such file or directory"
     ]
    }
   ],
   "source": [
    "with segyio.open(filename, ignore_geometry=True) as f:\n",
    "    # Get basic attributes\n",
    "    n_traces = f.tracecount\n",
    "    sample_rate = segyio.tools.dt(f) / 1000\n",
    "    n_samples = f.samples.size\n",
    "    twt = f.samples\n",
    "    data = f.trace.raw[:]  # Get all data into memory (could cause on big files)\n",
    "\n",
    "f'N Traces: {n_traces}, N Samples: {n_samples}, Sample rate: {sample_rate}ms, Trace length: {max(twt)}'"
   ]
  },
  {
   "cell_type": "markdown",
   "metadata": {},
   "source": [
    "The segy file has a sampling rate of 8.0m and a length of 6 seconds. We want to cut the file at 4000ms and set the sampling rate at 16ms. This should result in a 251 samples per trace file.\n",
    "\n",
    "The following plotting function will be used for illustration in the next sections"
   ]
  },
  {
   "cell_type": "code",
   "execution_count": null,
   "metadata": {},
   "outputs": [],
   "source": [
    "def plot_segy(file):\n",
    "    # Load data\n",
    "    with segyio.open(file, ignore_geometry=True) as f:\n",
    "        # Get basic attributes\n",
    "        n_traces = f.tracecount\n",
    "        sample_rate = segyio.tools.dt(f) / 1000\n",
    "        n_samples = f.samples.size\n",
    "        twt = f.samples\n",
    "        data = f.trace.raw[:]\n",
    "    # Plot\n",
    "    plt.style.use('ggplot')  # Use ggplot styles for all plotting\n",
    "    vm = np.percentile(data, 99)\n",
    "    fig = plt.figure(figsize=(18, 8))\n",
    "    ax = fig.add_subplot(1, 1, 1)\n",
    "    extent = [1, n_traces, twt[-1], twt[0]]  # define extent\n",
    "    ax.imshow(data.T, cmap=\"RdBu\", vmin=-vm, vmax=vm, aspect='auto', extent=extent)\n",
    "    ax.set_xlabel('CDP number')\n",
    "    ax.set_ylabel('TWT [ms]')\n",
    "    ax.set_title(f'{file}')"
   ]
  },
  {
   "cell_type": "markdown",
   "metadata": {},
   "source": [
    "## Cut all traces"
   ]
  },
  {
   "cell_type": "code",
   "execution_count": null,
   "metadata": {},
   "outputs": [],
   "source": [
    "# Setup the destination file\n",
    "destination = 'Cut.SGY'\n",
    "# Define the sample index to cut on\n",
    "cut_time = 4000\n",
    "cut_sample = int(cut_time / sample_rate)+1"
   ]
  },
  {
   "cell_type": "markdown",
   "metadata": {},
   "source": [
    "With the input file opened, we create the destination file, then copy all specifications until the cut sample. We finally have to update the bin header to insert the correct trace length."
   ]
  },
  {
   "cell_type": "code",
   "execution_count": null,
   "metadata": {},
   "outputs": [],
   "source": [
    "with segyio.open(filename, ignore_geometry=True) as src:\n",
    "    spec = segyio.tools.metadata(src)\n",
    "    spec.samples = spec.samples[:cut_sample]\n",
    "    with segyio.create(destination, spec) as dst:\n",
    "        dst.text[0] = src.text[0]\n",
    "        dst.bin = src.bin\n",
    "        dst.bin.update(hns=len(spec.samples))\n",
    "        dst.header = src.header\n",
    "        dst.trace = src.trace"
   ]
  },
  {
   "cell_type": "markdown",
   "metadata": {},
   "source": [
    "### Plot original file "
   ]
  },
  {
   "cell_type": "code",
   "execution_count": null,
   "metadata": {},
   "outputs": [],
   "source": [
    "plot_segy(filename)"
   ]
  },
  {
   "cell_type": "markdown",
   "metadata": {},
   "source": [
    "### Plot cut file"
   ]
  },
  {
   "cell_type": "code",
   "execution_count": null,
   "metadata": {},
   "outputs": [],
   "source": [
    "plot_segy(destination)"
   ]
  },
  {
   "cell_type": "markdown",
   "metadata": {},
   "source": [
    "## Resample the traces\n",
    "Once the trace are resampled, we need to update the sampling rate and number of sample in the bin header."
   ]
  },
  {
   "cell_type": "code",
   "execution_count": null,
   "metadata": {},
   "outputs": [],
   "source": [
    "final = 'test_resample.SGY'\n",
    "new_sampling = 16  # Should be a multiple of the original sampling rate\n",
    "sampling_ratio = int(new_sampling/sample_rate)\n",
    "\n",
    "import numpy as np\n",
    "\n",
    "with segyio.open(destination, ignore_geometry=True) as src:\n",
    "    spec = segyio.tools.metadata(src)\n",
    "    spec.samples = spec.samples[:int(src.samples.size/2)]\n",
    "    with segyio.create(final, spec) as dst:\n",
    "        dst.text[0] = src.text[0]\n",
    "        dst.bin = src.bin      \n",
    "        for ix, trace in enumerate(src.trace):\n",
    "            dst.trace[ix] =  scipy.signal.resample(trace, int(len(trace)/2))\n",
    "        dst.bin.update(hdt=new_sampling*1000)\n",
    "        dst.bin.update(hns=len(spec.samples))\n",
    "        dst.header = src.header\n"
   ]
  },
  {
   "cell_type": "markdown",
   "metadata": {},
   "source": [
    "### Plot final resampled file"
   ]
  },
  {
   "cell_type": "code",
   "execution_count": null,
   "metadata": {},
   "outputs": [],
   "source": [
    "plot_segy(destination)"
   ]
  }
 ],
 "metadata": {
  "kernelspec": {
   "display_name": "Python 3",
   "language": "python",
   "name": "python3"
  },
  "language_info": {
   "codemirror_mode": {
    "name": "ipython",
    "version": 3
   },
   "file_extension": ".py",
   "mimetype": "text/x-python",
   "name": "python",
   "nbconvert_exporter": "python",
   "pygments_lexer": "ipython3",
   "version": "3.7.1"
  }
 },
 "nbformat": 4,
 "nbformat_minor": 2
}
