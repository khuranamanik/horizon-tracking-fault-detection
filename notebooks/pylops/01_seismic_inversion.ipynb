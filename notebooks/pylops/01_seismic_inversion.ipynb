{
 "cells": [
  {
   "cell_type": "markdown",
   "metadata": {},
   "source": [
    "# Seismic inversion of real data"
   ]
  },
  {
   "cell_type": "markdown",
   "metadata": {},
   "source": [
    "This notebook aims at presenting a simple example of colored seismic inversion. \n",
    "\n",
    "We will use both the [Kerry3D data](https://wiki.seg.org/wiki/Kerry-3D) and the [Volve data](https://www.equinor.com/no/how-and-why/digitalisation-in-our-dna/volve-field-data-village-download.html) as input data to our inversion and we will leverage the open-source [segyio](https://github.com/equinor/segyio) and [pylops](https://github.com/equinor/pylops) libraries to accomplish our task as follows:\n",
    "\n",
    "- Data is read from SEG-Y file using segyio (note that for the Volve data we will have to deal with irregular geometry)\n",
    "- Colored inversion is applied by means of pylops.avo.poststack.PoststackInversion \n",
    "- Inverted data is saved back to SEG-Y file using segyio"
   ]
  },
  {
   "cell_type": "code",
   "execution_count": 1,
   "metadata": {},
   "outputs": [],
   "source": [
    "%load_ext autoreload\n",
    "%autoreload 2\n",
    "%matplotlib inline\n",
    "\n",
    "import warnings\n",
    "warnings.filterwarnings('ignore')\n",
    "\n",
    "import numpy as np\n",
    "import matplotlib.pyplot as plt\n",
    "import scipy as sp\n",
    "import segyio\n",
    "import pylops"
   ]
  },
  {
   "cell_type": "markdown",
   "metadata": {},
   "source": [
    "## Kerry3D"
   ]
  },
  {
   "cell_type": "markdown",
   "metadata": {},
   "source": [
    "We do not provide you with the data here, but the data can be be easily downloaded running the follow commands"
   ]
  },
  {
   "cell_type": "code",
   "execution_count": 2,
   "metadata": {},
   "outputs": [],
   "source": [
    "# TO BE RUN ONLY ONCE TO RETRIEVE THE DATA\n",
    "#!wget http://s3.amazonaws.com/open.source.geoscience/open_data/newzealand/Taranaiki_Basin/Keri_3D/Kerry3D.segy\n",
    "#!mv Kerry3D.segy ../../data/pylops   "
   ]
  },
  {
   "cell_type": "markdown",
   "metadata": {},
   "source": [
    "First of all we read our seismic data and display it"
   ]
  },
  {
   "cell_type": "code",
   "execution_count": 3,
   "metadata": {},
   "outputs": [
    {
     "ename": "FileNotFoundError",
     "evalue": "[Errno 2] No such file or directory",
     "output_type": "error",
     "traceback": [
      "\u001b[1;31m---------------------------------------------------------------------------\u001b[0m",
      "\u001b[1;31mFileNotFoundError\u001b[0m                         Traceback (most recent call last)",
      "\u001b[1;32m<ipython-input-3-cf6fc49aa20f>\u001b[0m in \u001b[0;36m<module>\u001b[1;34m\u001b[0m\n\u001b[0;32m      2\u001b[0m \u001b[1;33m\u001b[0m\u001b[0m\n\u001b[0;32m      3\u001b[0m f = segyio.open(segyfile, iline=segyio.tracefield.TraceField.SourceEnergyDirectionExponent, \n\u001b[1;32m----> 4\u001b[1;33m                 xline=segyio.tracefield.TraceField.CDP)\n\u001b[0m\u001b[0;32m      5\u001b[0m \u001b[1;33m\u001b[0m\u001b[0m\n\u001b[0;32m      6\u001b[0m \u001b[0mil\u001b[0m\u001b[1;33m,\u001b[0m \u001b[0mxl\u001b[0m\u001b[1;33m,\u001b[0m \u001b[0mt\u001b[0m \u001b[1;33m=\u001b[0m \u001b[0mf\u001b[0m\u001b[1;33m.\u001b[0m\u001b[0milines\u001b[0m\u001b[1;33m,\u001b[0m \u001b[0mf\u001b[0m\u001b[1;33m.\u001b[0m\u001b[0mxlines\u001b[0m\u001b[1;33m,\u001b[0m \u001b[0mf\u001b[0m\u001b[1;33m.\u001b[0m\u001b[0msamples\u001b[0m\u001b[1;33m\u001b[0m\u001b[1;33m\u001b[0m\u001b[0m\n",
      "\u001b[1;32mC:\\ProgramData\\Anaconda3\\lib\\site-packages\\segyio\\open.py\u001b[0m in \u001b[0;36mopen\u001b[1;34m(filename, mode, iline, xline, strict, ignore_geometry, endian)\u001b[0m\n\u001b[0;32m    160\u001b[0m \u001b[1;33m\u001b[0m\u001b[0m\n\u001b[0;32m    161\u001b[0m     \u001b[1;32mfrom\u001b[0m \u001b[1;33m.\u001b[0m \u001b[1;32mimport\u001b[0m \u001b[0m_segyio\u001b[0m\u001b[1;33m\u001b[0m\u001b[1;33m\u001b[0m\u001b[0m\n\u001b[1;32m--> 162\u001b[1;33m     \u001b[0mfd\u001b[0m \u001b[1;33m=\u001b[0m \u001b[0m_segyio\u001b[0m\u001b[1;33m.\u001b[0m\u001b[0msegyiofd\u001b[0m\u001b[1;33m(\u001b[0m\u001b[0mstr\u001b[0m\u001b[1;33m(\u001b[0m\u001b[0mfilename\u001b[0m\u001b[1;33m)\u001b[0m\u001b[1;33m,\u001b[0m \u001b[0mmode\u001b[0m\u001b[1;33m,\u001b[0m \u001b[0mendians\u001b[0m\u001b[1;33m[\u001b[0m\u001b[0mendian\u001b[0m\u001b[1;33m]\u001b[0m\u001b[1;33m)\u001b[0m\u001b[1;33m\u001b[0m\u001b[1;33m\u001b[0m\u001b[0m\n\u001b[0m\u001b[0;32m    163\u001b[0m     \u001b[0mfd\u001b[0m\u001b[1;33m.\u001b[0m\u001b[0msegyopen\u001b[0m\u001b[1;33m(\u001b[0m\u001b[1;33m)\u001b[0m\u001b[1;33m\u001b[0m\u001b[1;33m\u001b[0m\u001b[0m\n\u001b[0;32m    164\u001b[0m     \u001b[0mmetrics\u001b[0m \u001b[1;33m=\u001b[0m \u001b[0mfd\u001b[0m\u001b[1;33m.\u001b[0m\u001b[0mmetrics\u001b[0m\u001b[1;33m(\u001b[0m\u001b[1;33m)\u001b[0m\u001b[1;33m\u001b[0m\u001b[1;33m\u001b[0m\u001b[0m\n",
      "\u001b[1;31mFileNotFoundError\u001b[0m: [Errno 2] No such file or directory"
     ]
    }
   ],
   "source": [
    "segyfile = '../../data/pylops/Kerry3D.segy'\n",
    "\n",
    "f = segyio.open(segyfile, iline=segyio.tracefield.TraceField.SourceEnergyDirectionExponent, \n",
    "                xline=segyio.tracefield.TraceField.CDP)\n",
    "\n",
    "il, xl, t = f.ilines, f.xlines, f.samples\n",
    "dt = t[1] - t[0]\n",
    "\n",
    "d = segyio.cube(f)\n",
    "nil, nxl, nt = d.shape\n",
    "\n",
    "plt.figure(figsize=(7, 9))\n",
    "plt.imshow(d[nil//2].T, cmap='RdYlBu', vmin=-5, vmax=5,\n",
    "           extent=(xl[0], xl[-1], t[-1], t[0]))\n",
    "plt.title('Seismic data')\n",
    "plt.colorbar()\n",
    "plt.axis('tight');"
   ]
  },
  {
   "cell_type": "markdown",
   "metadata": {},
   "source": [
    "Let's now try to get a quick estimate of the wavelet in our data using a simple *statistical wavelet* estimation in frequency domain.\n",
    "\n",
    "Note that this notebook is not focused on the pre-processing but we will need access to this to apply a colored inversion."
   ]
  },
  {
   "cell_type": "code",
   "execution_count": null,
   "metadata": {},
   "outputs": [],
   "source": [
    "nt_wav = 31 # lenght of wavelet in samples\n",
    "nfft = 2**11 # lenght of fft\n",
    "\n",
    "# time axis for wavelet\n",
    "t_wav = np.arange(nt_wav) * (dt/1000) \n",
    "t_wav = np.concatenate((np.flipud(-t_wav[1:]), t_wav), axis=0)\n",
    "\n",
    "# estimate wavelet spectrum\n",
    "wav_est_fft = np.mean(np.abs(np.fft.fft(d[..., :500], nfft, axis=-1)), axis=(0, 1))\n",
    "fwest = np.fft.fftfreq(nfft, d=dt/1000)\n",
    "\n",
    "# create wavelet in time\n",
    "wav_est = np.real(np.fft.ifft(wav_est_fft)[:nt_wav])\n",
    "wav_est = np.concatenate((np.flipud(wav_est[1:]), wav_est), axis=0)\n",
    "wav_est = wav_est / wav_est.max()\n",
    "wcenter = np.argmax(np.abs(wav_est))\n",
    "\n",
    "# display wavelet\n",
    "fig, axs = plt.subplots(1, 2, figsize=(20, 5))\n",
    "fig.suptitle('Statistical wavelet estimate')\n",
    "axs[0].plot(fwest[:nfft//2], wav_est_fft[:nfft//2], 'k')\n",
    "axs[0].set_title('Frequency')\n",
    "axs[1].plot(t_wav, wav_est, 'k')\n",
    "axs[1].set_title('Time');"
   ]
  },
  {
   "cell_type": "markdown",
   "metadata": {},
   "source": [
    "Let's perform now the inversion"
   ]
  },
  {
   "cell_type": "code",
   "execution_count": null,
   "metadata": {},
   "outputs": [],
   "source": [
    "# swap time axis to first dimension\n",
    "d_small = d[..., :500]\n",
    "d_small = np.swapaxes(d_small, -1, 0)\n",
    "\n",
    "m_colored, r_colored = \\\n",
    "    pylops.avo.poststack.PoststackInversion(d_small, wav_est, m0=np.zeros_like(d_small), explicit=True, epsI=1e-4,\n",
    "                                            simultaneous=False)\n",
    "m_colored_reg, r_colored_reg = \\\n",
    "    pylops.avo.poststack.PoststackInversion(d_small, wav_est, m0=m_colored, epsI=1e-4, epsR=1e0, \n",
    "                                            **dict(iter_lim=10, show=2))\n",
    "# swap time axis back to last dimension\n",
    "d_small = np.swapaxes(d_small, 0, -1)\n",
    "m_colored = np.swapaxes(m_colored, 0, -1)\n",
    "m_colored_reg = np.swapaxes(m_colored_reg, 0, -1)\n",
    "r_colored = np.swapaxes(r_colored, 0, -1)\n",
    "r_colored_reg = np.swapaxes(r_colored_reg, 0, -1)"
   ]
  },
  {
   "cell_type": "markdown",
   "metadata": {},
   "source": [
    "Let's compare our results"
   ]
  },
  {
   "cell_type": "code",
   "execution_count": null,
   "metadata": {},
   "outputs": [],
   "source": [
    "fig, axs = plt.subplots(1, 3, figsize=(18, 12))\n",
    "fig.suptitle('Colored inversion')\n",
    "axs[0].imshow(d_small[nil//2].T, cmap='seismic', vmin=-10, vmax=10,\n",
    "              extent=(xl[0], xl[-1], t[500], t[0]))\n",
    "axs[0].set_title('Seismic data')\n",
    "axs[0].axis('tight')\n",
    "axs[1].imshow(m_colored[nil//2].T, cmap='seismic', vmin=-0.2*m_colored.max(), vmax=0.2*m_colored.max(),\n",
    "              extent=(xl[0], xl[-1], t[500], t[0]))\n",
    "axs[1].set_title('Trace-by-Trace')\n",
    "axs[1].axis('tight')\n",
    "axs[2].imshow(m_colored_reg[nil//2].T, cmap='seismic', vmin=-0.2*m_colored.max(), vmax=0.2*m_colored.max(),\n",
    "              extent=(xl[0], xl[-1], t[500], t[0]))\n",
    "axs[2].set_title('Spatially regularized')\n",
    "axs[2].axis('tight');"
   ]
  },
  {
   "cell_type": "markdown",
   "metadata": {},
   "source": [
    "And a little close up"
   ]
  },
  {
   "cell_type": "code",
   "execution_count": null,
   "metadata": {},
   "outputs": [],
   "source": [
    "fig, axs = plt.subplots(1, 3, figsize=(18, 3))\n",
    "axs[0].imshow(d_small[nil//2].T, cmap='seismic', interpolation='sinc', vmin=-10, vmax=10,\n",
    "              extent=(xl[0], xl[-1], t[500], t[0]))\n",
    "axs[0].set_title('Seismic data')\n",
    "axs[0].axis('tight')\n",
    "axs[0].set_ylim(1800, 1500)\n",
    "axs[1].imshow(m_colored[nil//2].T, cmap='seismic', interpolation='sinc', \n",
    "              vmin=-0.2*m_colored.max(), vmax=0.2*m_colored.max(),\n",
    "              extent=(xl[0], xl[-1], t[500], t[0]))\n",
    "axs[1].set_title('Trace-by-Trace')\n",
    "axs[1].axis('tight')\n",
    "axs[1].set_ylim(1800, 1500)\n",
    "axs[2].imshow(m_colored_reg[nil//2].T, cmap='seismic', interpolation='sinc', \n",
    "              vmin=-0.2*m_colored.max(), vmax=0.2*m_colored.max(),\n",
    "              extent=(xl[0], xl[-1], t[500], t[0]))\n",
    "axs[2].set_title('Spatially regularized')\n",
    "axs[2].axis('tight')\n",
    "axs[2].set_ylim(1800, 1500);"
   ]
  },
  {
   "cell_type": "markdown",
   "metadata": {},
   "source": [
    "And a time slice"
   ]
  },
  {
   "cell_type": "code",
   "execution_count": null,
   "metadata": {},
   "outputs": [],
   "source": [
    "fig, axs = plt.subplots(1, 3, figsize=(18, 5))\n",
    "fig.suptitle('Colored inversion')\n",
    "axs[0].imshow(d_small[...,200], cmap='seismic', vmin=-10, vmax=10,\n",
    "              extent=(xl[0], xl[-1], il[-1], il[0]))\n",
    "axs[0].set_title('Seismic data')\n",
    "axs[0].axis('tight');\n",
    "axs[1].imshow(m_colored[...,200], cmap='seismic', vmin=-0.1*m_colored.max(), vmax=0.1*m_colored.max(),\n",
    "              extent=(xl[0], xl[-1], il[-1], il[0]))\n",
    "axs[1].set_title('Trace-by-Trace')\n",
    "axs[1].axis('tight');\n",
    "axs[2].imshow(m_colored_reg[...,200], cmap='seismic', vmin=-0.1*m_colored.max(), vmax=0.1*m_colored.max(),\n",
    "              extent=(xl[0], xl[-1], il[-1], il[0]))\n",
    "axs[2].set_title('Spatially regularized')\n",
    "axs[2].axis('tight');"
   ]
  },
  {
   "cell_type": "markdown",
   "metadata": {},
   "source": [
    "Finally we display the residuals"
   ]
  },
  {
   "cell_type": "code",
   "execution_count": null,
   "metadata": {},
   "outputs": [],
   "source": [
    "fig, axs = plt.subplots(1, 3, figsize=(18, 12))\n",
    "fig.suptitle('Colored inversion - residuals')\n",
    "axs[0].imshow(d_small[nil//2].T, cmap='seismic', vmin=-10, vmax=10,\n",
    "              extent=(xl[0], xl[-1], t[500], t[0]))\n",
    "axs[0].set_title('Seismic data')\n",
    "axs[0].axis('tight')\n",
    "axs[1].imshow(r_colored[nil//2].T, cmap='seismic', vmin=-10, vmax=10, \n",
    "              extent=(xl[0], xl[-1], t[500], t[0]))\n",
    "axs[1].set_title('Trace-by-Trace')\n",
    "axs[1].axis('tight')\n",
    "axs[2].imshow(r_colored_reg[nil//2].T, cmap='seismic', vmin=-10, vmax=10,\n",
    "              extent=(xl[0], xl[-1], t[500], t[0]))\n",
    "axs[2].set_title('Spatially regularized')\n",
    "axs[2].axis('tight');"
   ]
  },
  {
   "cell_type": "markdown",
   "metadata": {},
   "source": [
    "Finally we save the cube (with limited time axis) back to segy file and we change the location of ilines and crosslines to the more common locations segyio.TraceField.INLINE_3D (189) and segyio.TraceField.CROSSLINE_3D (193)"
   ]
  },
  {
   "cell_type": "code",
   "execution_count": null,
   "metadata": {},
   "outputs": [],
   "source": [
    "segyfile_inverted = '../../data/pylops/Kerry3D_inverted.segy'\n",
    "\n",
    "with segyio.open(segyfile, iline=segyio.tracefield.TraceField.SourceEnergyDirectionExponent, \n",
    "                 xline=segyio.tracefield.TraceField.CDP) as src:\n",
    "        spec = segyio.spec()\n",
    "        spec.sorting = int(src.sorting)\n",
    "        spec.format = int(src.format)\n",
    "        spec.samples = t[:500]\n",
    "        spec.ilines = src.ilines\n",
    "        spec.xlines = src.xlines\n",
    "\n",
    "        with segyio.create(segyfile_inverted, spec) as dst:\n",
    "            # Copy all textual headers, including possible extended\n",
    "            for i in range(src.ext_headers):\n",
    "                dst.text[i] = src.text[i]\n",
    "\n",
    "            # Copy the binary header, then insert the modifications needed for the new time axis\n",
    "            dst.bin = src.bin\n",
    "            dst.bin = {segyio.BinField.Samples: 500}\n",
    "            \n",
    "            # Copy all trace headers to destination file\n",
    "            dst.header.iline = src.header.iline\n",
    "            \n",
    "            # Modify headers to have IL and XL at more standard bytes\n",
    "            tr = 0\n",
    "            for il in spec.ilines:\n",
    "                for xl in spec.xlines:\n",
    "                    dst.header[tr] = {\n",
    "                        segyio.tracefield.TraceField.INLINE_3D : il,\n",
    "                        segyio.tracefield.TraceField.CROSSLINE_3D : xl,\n",
    "                        segyio.TraceField.TRACE_SAMPLE_COUNT: 500} \n",
    "                    tr +=1\n",
    "\n",
    "            # Copy data\n",
    "            for iil, iline in enumerate(dst.ilines):\n",
    "                dst.iline[iline] = m_colored[iil].astype('float32')"
   ]
  },
  {
   "cell_type": "markdown",
   "metadata": {},
   "source": [
    "Let's just read the file back"
   ]
  },
  {
   "cell_type": "code",
   "execution_count": null,
   "metadata": {},
   "outputs": [],
   "source": [
    "m_saved = segyio.cube(segyfile_inverted)\n",
    "\n",
    "np.allclose(m_colored, m_saved)"
   ]
  },
  {
   "cell_type": "code",
   "execution_count": null,
   "metadata": {},
   "outputs": [],
   "source": [
    "!rm ../../data/pylops/Kerry3D_inverted.segy"
   ]
  },
  {
   "cell_type": "markdown",
   "metadata": {},
   "source": [
    "## Volve data"
   ]
  },
  {
   "cell_type": "markdown",
   "metadata": {},
   "source": [
    "Again, we cannot provide the data given its size, but the Volve data is hosted on a Azure Blob storage so it is very easy to download it using the `Azure CLI`"
   ]
  },
  {
   "cell_type": "code",
   "execution_count": null,
   "metadata": {},
   "outputs": [],
   "source": [
    "# TO BE RUN ONLY ONCE TO RETRIEVE THE DATA\n",
    "#!az storage blob download --account-name dataplatformblvolve --container-name pub --name Seismic/ST10010/Stacks/ST10010ZC11_PZ_PSDM_KIRCH_FAR_D.MIG_FIN.POST_STACK.3D.JS-017536.segy --file ST10010ZC11_PZ_PSDM_KIRCH_FAR_D.MIG_FIN.POST_STACK.3D.JS-017536.segy --sas-token \"$YOURTOKEN\"\n",
    "#!mv ST10010ZC11_PZ_PSDM_KIRCH_FAR_D.MIG_FIN.POST_STACK.3D.JS-017536.segy ../../data/pylops   "
   ]
  },
  {
   "cell_type": "markdown",
   "metadata": {},
   "source": [
    "where you will need to substitute `$YOURTOKEN` with your personal token. To get a token, simply register at https://data.equinor.com/authenticate and find the token in the red text in the Usage section. Ensure to copy everything from `?sv=` to `=rl` in place of `$YOURTOKEN`."
   ]
  },
  {
   "cell_type": "markdown",
   "metadata": {},
   "source": [
    "Let's now read the Volve data. \n",
    "\n",
    "Note that we add the `ignore_geometry=True` parameter when we open the file. As we will see the geometry in this file is not regular, so we cannot rely on the inner working of segyio to get our data into a 3d numpy array as it was the case for the Kerry3D data."
   ]
  },
  {
   "cell_type": "code",
   "execution_count": null,
   "metadata": {},
   "outputs": [],
   "source": [
    "segyfile = '../../data/pylops/ST10010ZC11_PZ_PSDM_KIRCH_FAR_D.MIG_FIN.POST_STACK.3D.JS-017536.segy'\n",
    "\n",
    "f = segyio.open(segyfile, ignore_geometry=True)"
   ]
  },
  {
   "cell_type": "markdown",
   "metadata": {},
   "source": [
    "We thus need to read all ILs, XLs and traces and reorganize them ourselves into a regular grid. No worries, numpy will do most of the hard work"
   ]
  },
  {
   "cell_type": "code",
   "execution_count": null,
   "metadata": {},
   "outputs": [],
   "source": [
    "t = f.samples\n",
    "il = f.attributes(segyio.TraceField.INLINE_3D)[:]\n",
    "xl = f.attributes(segyio.TraceField.CROSSLINE_3D)[:]\n",
    "\n",
    "traces = segyio.collect(f.trace)[:]\n",
    "ntraces, nt = traces.shape\n",
    "\n",
    "# define a regular IL and XL axis\n",
    "il_unique = np.unique(il)\n",
    "xl_unique = np.unique(xl)\n",
    "\n",
    "il_min, il_max = min(il_unique), max(il_unique)\n",
    "xl_min, xl_max = min(xl_unique), max(xl_unique)\n",
    "\n",
    "dt = t[1] - t[0]\n",
    "dil = min(np.unique(np.diff(il_unique)))\n",
    "dxl = min(np.unique(np.diff(xl_unique)))\n",
    "\n",
    "# regular axis\n",
    "ilines = np.arange(il_min, il_max + dil, dil)\n",
    "xlines = np.arange(xl_min, xl_max + dxl, dxl)\n",
    "nil, nxl = ilines.size, xlines.size\n",
    "\n",
    "ilgrid, xlgrid = np.meshgrid(np.arange(nil),\n",
    "                             np.arange(nxl),\n",
    "                             indexing='ij')\n",
    "\n",
    "# look-up table\n",
    "traces_indeces = np.full((nil, nxl), np.nan)\n",
    "iils = (il - il_min) // dil\n",
    "ixls = (xl - xl_min) // dxl\n",
    "traces_indeces[iils, ixls] = np.arange(ntraces)\n",
    "traces_available = np.logical_not(np.isnan(traces_indeces))\n",
    "print('# missing traces: {}'.format(np.sum(~traces_available)))\n",
    "\n",
    "# reorganize traces in regular grid\n",
    "d = np.zeros((nil, nxl, nt))\n",
    "d[ilgrid.ravel()[traces_available.ravel()],\n",
    "  xlgrid.ravel()[traces_available.ravel()]] = traces"
   ]
  },
  {
   "cell_type": "code",
   "execution_count": null,
   "metadata": {
    "scrolled": false
   },
   "outputs": [],
   "source": [
    "plt.figure(figsize=(7, 9))\n",
    "plt.imshow(d[nil//2].T, cmap='RdYlBu', vmin=-5, vmax=5,\n",
    "           extent=(xlines[0], xlines[-1], t[-1], t[0]))\n",
    "plt.title('Seismic data - section')\n",
    "plt.colorbar()\n",
    "plt.axis('tight');\n",
    "\n",
    "plt.figure(figsize=(7, 5))\n",
    "plt.imshow(d[..., nt//2], cmap='RdYlBu', vmin=-5, vmax=5,\n",
    "           extent=(xlines[0], xlines[-1], ilines[-1], ilines[0]))\n",
    "plt.title('Seismic data - slice')\n",
    "plt.colorbar()\n",
    "plt.axis('tight');"
   ]
  },
  {
   "cell_type": "markdown",
   "metadata": {},
   "source": [
    "Once again, let's estimate the wavelet and apply colored inversion. This time we will target the deeper area"
   ]
  },
  {
   "cell_type": "code",
   "execution_count": null,
   "metadata": {},
   "outputs": [],
   "source": [
    "nt_wav = 41 # lenght of wavelet in samples\n",
    "nfft = 2**11 # lenght of fft\n",
    "\n",
    "# time axis for wavelet\n",
    "t_wav = np.arange(nt_wav) * (dt/1000) \n",
    "t_wav = np.concatenate((np.flipud(-t_wav[1:]), t_wav), axis=0)\n",
    "\n",
    "# estimate wavelet spectrum\n",
    "wav_est_fft = np.mean(np.abs(np.fft.fft(d[..., 500:], nfft, axis=-1)), axis=(0, 1))\n",
    "fwest = np.fft.fftfreq(nfft, d=dt/1000)\n",
    "\n",
    "# create wavelet in time\n",
    "wav_est = np.real(np.fft.ifft(wav_est_fft)[:nt_wav])\n",
    "wav_est = np.concatenate((np.flipud(wav_est[1:]), wav_est), axis=0)\n",
    "wav_est = wav_est / wav_est.max()\n",
    "wcenter = np.argmax(np.abs(wav_est))\n",
    "\n",
    "# display wavelet\n",
    "fig, axs = plt.subplots(1, 2, figsize=(20, 5))\n",
    "fig.suptitle('Statistical wavelet estimate')\n",
    "axs[0].plot(fwest[:nfft//2], wav_est_fft[:nfft//2], 'k')\n",
    "axs[0].set_title('Frequency')\n",
    "axs[1].plot(t_wav, wav_est, 'k')\n",
    "axs[1].set_title('Time');"
   ]
  },
  {
   "cell_type": "code",
   "execution_count": null,
   "metadata": {},
   "outputs": [],
   "source": [
    "# swap time axis to first dimension\n",
    "itmin, itmax = 500, 950\n",
    "d_small = d[..., itmin:itmax]\n",
    "d_small = np.swapaxes(d_small, -1, 0)\n",
    "\n",
    "m_colored, r_colored = \\\n",
    "    pylops.avo.poststack.PoststackInversion(d_small, wav_est, m0=np.zeros_like(d_small), explicit=True, \n",
    "                                            epsI=1e-3, simultaneous=False)\n",
    "m_colored_reg, r_colored_reg = \\\n",
    "    pylops.avo.poststack.PoststackInversion(d_small, wav_est, m0=m_colored, epsI=1e-4, epsR=5e1, \n",
    "                                            **dict(iter_lim=20, show=2))\n",
    "# swap time axis back to last dimension\n",
    "d_small = np.swapaxes(d_small, 0, -1)\n",
    "m_colored = np.swapaxes(m_colored, 0, -1)\n",
    "m_colored_reg = np.swapaxes(m_colored_reg, 0, -1)\n",
    "r_colored = np.swapaxes(r_colored, 0, -1)\n",
    "r_colored_reg = np.swapaxes(r_colored_reg, 0, -1)"
   ]
  },
  {
   "cell_type": "markdown",
   "metadata": {},
   "source": [
    "We can now display the inverted model and residuals"
   ]
  },
  {
   "cell_type": "code",
   "execution_count": null,
   "metadata": {},
   "outputs": [],
   "source": [
    "fig, axs = plt.subplots(3, 1, figsize=(15, 20))\n",
    "fig.suptitle('Colored inversion - iline section', y=0.91, fontweight='bold', fontsize=18)\n",
    "axs[0].imshow(d_small[nil//2].T, cmap='seismic', vmin=-4, vmax=4,\n",
    "              extent=(xl[0], xl[-1], t[itmax], t[itmin]))\n",
    "axs[0].set_title('Seismic data')\n",
    "axs[0].axis('tight')\n",
    "axs[1].imshow(m_colored[nil//2].T, cmap='seismic', vmin=-0.7*m_colored.max(), vmax=0.7*m_colored.max(),\n",
    "              extent=(xl[0], xl[-1], t[itmax], t[itmin]))\n",
    "axs[1].set_title('Trace-by-Trace')\n",
    "axs[1].axis('tight')\n",
    "axs[2].imshow(m_colored_reg[nil//2].T, cmap='seismic', vmin=-0.7*m_colored.max(), vmax=0.7*m_colored.max(),\n",
    "              extent=(xl[0], xl[-1], t[itmax], t[itmin]))\n",
    "axs[2].set_title('Spatially regularized')\n",
    "axs[2].axis('tight');"
   ]
  },
  {
   "cell_type": "code",
   "execution_count": null,
   "metadata": {},
   "outputs": [],
   "source": [
    "fig, axs = plt.subplots(1, 3, figsize=(18, 5))\n",
    "fig.suptitle('Colored inversion - xline section', y=1.03, fontweight='bold', fontsize=18)\n",
    "axs[0].imshow(d_small[:, nxl//2].T, cmap='seismic', vmin=-4, vmax=4,\n",
    "              extent=(il[0], il[-1], t[itmax], t[itmin]))\n",
    "axs[0].set_title('Seismic data')\n",
    "axs[0].axis('tight')\n",
    "axs[1].imshow(m_colored[:, nxl//2].T, cmap='seismic', vmin=-0.7*m_colored.max(), vmax=0.7*m_colored.max(),\n",
    "              extent=(il[0], il[-1], t[itmax], t[itmin]))\n",
    "axs[1].set_title('Trace-by-Trace')\n",
    "axs[1].axis('tight')\n",
    "axs[2].imshow(m_colored_reg[:, nxl//2].T, cmap='seismic', vmin=-0.7*m_colored.max(), vmax=0.7*m_colored.max(),\n",
    "              extent=(il[0], il[-1], t[itmax], t[itmin]))\n",
    "axs[2].set_title('Spatially regularized')\n",
    "axs[2].axis('tight');"
   ]
  },
  {
   "cell_type": "code",
   "execution_count": null,
   "metadata": {},
   "outputs": [],
   "source": [
    "fig, axs = plt.subplots(1, 3, figsize=(18, 5))\n",
    "fig.suptitle('Colored inversion - time slice @ t={}'.format(t[itmin+150]), y=1.05, fontweight='bold', fontsize=18)\n",
    "axs[0].imshow(d_small[...,150], cmap='seismic', vmin=-4, vmax=4,\n",
    "              extent=(xl[0], xl[-1], il[-1], il[0]))\n",
    "axs[0].set_title('Seismic data')\n",
    "axs[0].axis('tight');\n",
    "axs[1].imshow(m_colored[...,150], cmap='seismic', vmin=-0.7*m_colored.max(), vmax=0.7*m_colored.max(),\n",
    "              extent=(xl[0], xl[-1], il[-1], il[0]))\n",
    "axs[1].set_title('Trace-by-Trace')\n",
    "axs[1].axis('tight');\n",
    "axs[2].imshow(m_colored_reg[...,150], cmap='seismic', vmin=-0.7*m_colored.max(), vmax=0.7*m_colored.max(),\n",
    "              extent=(xl[0], xl[-1], il[-1], il[0]))\n",
    "axs[2].set_title('Spatially regularized')\n",
    "axs[2].axis('tight');"
   ]
  },
  {
   "cell_type": "code",
   "execution_count": null,
   "metadata": {},
   "outputs": [],
   "source": [
    "fig, axs = plt.subplots(3, 1, figsize=(15, 20))\n",
    "fig.suptitle('Colored inversion - residuals', y=0.91, fontweight='bold', fontsize=18)\n",
    "axs[0].imshow(d_small[nil//2].T, cmap='seismic', vmin=-4, vmax=4,\n",
    "              extent=(xl[0], xl[-1], t[itmax], t[itmin]))\n",
    "axs[0].set_title('Seismic data')\n",
    "axs[0].axis('tight')\n",
    "axs[1].imshow(r_colored[nil//2].T, cmap='seismic', vmin=-4, vmax=4,\n",
    "              extent=(xl[0], xl[-1], t[itmax], t[itmin]))\n",
    "axs[1].set_title('Trace-by-Trace')\n",
    "axs[1].axis('tight')\n",
    "axs[2].imshow(r_colored_reg[nil//2].T, cmap='seismic', vmin=-4, vmax=4,\n",
    "              extent=(xl[0], xl[-1], t[itmax], t[itmin]))\n",
    "axs[2].set_title('Spatially regularized')\n",
    "axs[2].axis('tight');"
   ]
  },
  {
   "cell_type": "markdown",
   "metadata": {},
   "source": [
    "Finally we write the cube back to a segy"
   ]
  },
  {
   "cell_type": "code",
   "execution_count": null,
   "metadata": {},
   "outputs": [],
   "source": [
    "# Bring traces back to their original order\n",
    "traces_to_save =  m_colored_reg[ilgrid.ravel()[traces_available.ravel()],\n",
    "                                xlgrid.ravel()[traces_available.ravel()]]"
   ]
  },
  {
   "cell_type": "code",
   "execution_count": null,
   "metadata": {},
   "outputs": [],
   "source": [
    "segyfile_inverted = '../../data/pylops/ST10010ZC11_PZ_PSDM_KIRCH_FAR_D.MIG_FIN.POST_STACK.3D.JS-017536_inverted.segy'\n",
    "\n",
    "with segyio.open(segyfile, ignore_geometry=True) as src:\n",
    "        spec = segyio.spec()\n",
    "        spec.format = int(src.format)\n",
    "        spec.samples = t[itmin:itmax]\n",
    "        spec.tracecount = src.tracecount\n",
    "\n",
    "        with segyio.create(segyfile_inverted, spec) as dst:\n",
    "            # Copy all textual headers, including possible extended\n",
    "            for i in range(src.ext_headers):\n",
    "                dst.text[i] = src.text[i]\n",
    "\n",
    "            # Copy the binary header, then insert the modifications needed for the new time axis\n",
    "            dst.bin = src.bin\n",
    "            dst.bin = {segyio.BinField.Samples: itmax-itmin}\n",
    "            \n",
    "            # Copy all trace headers to destination file\n",
    "            dst.header = src.header \n",
    "\n",
    "            # Copy data and modify trace header\n",
    "            for itrace in range(dst.tracecount):\n",
    "                dst.header[itrace] = {segyio.TraceField.TRACE_SAMPLE_COUNT: itmax-itmin} \n",
    "                dst.trace[itrace] = traces_to_save[itrace].astype('float32')"
   ]
  },
  {
   "cell_type": "markdown",
   "metadata": {},
   "source": [
    "Again, let's read the file back and check that what we saved is correct"
   ]
  },
  {
   "cell_type": "code",
   "execution_count": null,
   "metadata": {},
   "outputs": [],
   "source": [
    "f1 = segyio.open(segyfile_inverted, ignore_geometry=True)\n",
    "traces1 = segyio.collect(f1.trace)[:]\n",
    "\n",
    "np.allclose(traces1, traces_to_save)"
   ]
  },
  {
   "cell_type": "code",
   "execution_count": null,
   "metadata": {},
   "outputs": [],
   "source": [
    "!rm ../../data/pylops/ST10010ZC11_PZ_PSDM_KIRCH_FAR_D.MIG_FIN.POST_STACK.3D.JS-017536_inverted.segy"
   ]
  }
 ],
 "metadata": {
  "kernelspec": {
   "display_name": "Python 3",
   "language": "python",
   "name": "python3"
  },
  "language_info": {
   "codemirror_mode": {
    "name": "ipython",
    "version": 3
   },
   "file_extension": ".py",
   "mimetype": "text/x-python",
   "name": "python",
   "nbconvert_exporter": "python",
   "pygments_lexer": "ipython3",
   "version": "3.7.1"
  }
 },
 "nbformat": 4,
 "nbformat_minor": 2
}
